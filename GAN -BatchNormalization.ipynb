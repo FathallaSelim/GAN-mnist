{
 "cells": [
  {
   "cell_type": "code",
   "execution_count": 1,
   "id": "12033b20",
   "metadata": {},
   "outputs": [],
   "source": [
    "import time\n",
    "import numpy as np\n",
    "import torch\n",
    "import torch.nn.functional as F\n",
    "from torchvision import datasets\n",
    "from torchvision import transforms\n",
    "import torch.nn as nn\n",
    "from torch.utils.data import DataLoader\n",
    "import matplotlib.pyplot as plt\n",
    "%matplotlib inline"
   ]
  },
  {
   "cell_type": "code",
   "execution_count": 2,
   "id": "27ec8f0b",
   "metadata": {},
   "outputs": [],
   "source": [
    "if torch.cuda.is_available():\n",
    "    torch.backends.cudnn.deterministic = True"
   ]
  },
  {
   "cell_type": "code",
   "execution_count": 3,
   "id": "97589ae7",
   "metadata": {},
   "outputs": [
    {
     "data": {
      "text/plain": [
       "device(type='cpu')"
      ]
     },
     "execution_count": 3,
     "metadata": {},
     "output_type": "execute_result"
    }
   ],
   "source": [
    "# Device\n",
    "device = torch.device(\"cuda\" if torch.cuda.is_available() else \"cpu\")\n",
    "device"
   ]
  },
  {
   "cell_type": "code",
   "execution_count": 4,
   "id": "c5615a75",
   "metadata": {},
   "outputs": [],
   "source": [
    "# Hyperparameters\n",
    "random_seed = 123\n",
    "generator_learning_rate = 0.001\n",
    "discriminator_learning_rate = 0.001\n",
    "NUM_EPOCHS = 100\n",
    "BATCH_SIZE = 128\n",
    "LATENT_DIM = 75\n",
    "IMG_SHAPE = (1, 28, 28)\n",
    "IMG_SIZE = 1\n",
    "for x in IMG_SHAPE:\n",
    "    IMG_SIZE *= x"
   ]
  },
  {
   "cell_type": "code",
   "execution_count": 5,
   "id": "5d7ffa11",
   "metadata": {},
   "outputs": [
    {
     "name": "stdout",
     "output_type": "stream",
     "text": [
      "Image batch dimensions: torch.Size([128, 1, 28, 28])\n",
      "Image label dimensions: torch.Size([128])\n"
     ]
    }
   ],
   "source": [
    "train_dataset = datasets.MNIST(root='data', \n",
    "                               train=True, \n",
    "                               transform=transforms.ToTensor(),\n",
    "                               download=True)\n",
    "\n",
    "test_dataset = datasets.MNIST(root='data', \n",
    "                              train=False, \n",
    "                              transform=transforms.ToTensor())\n",
    "\n",
    "\n",
    "train_loader = DataLoader(dataset=train_dataset, \n",
    "                          batch_size=BATCH_SIZE, \n",
    "                          shuffle=True)\n",
    "\n",
    "test_loader = DataLoader(dataset=test_dataset, \n",
    "                         batch_size=BATCH_SIZE, \n",
    "                         shuffle=False)\n",
    "\n",
    "# Checking the dataset\n",
    "for images, labels in train_loader:  \n",
    "    print('Image batch dimensions:', images.shape)\n",
    "    print('Image label dimensions:', labels.shape)\n",
    "    break"
   ]
  },
  {
   "cell_type": "code",
   "execution_count": 12,
   "id": "eecfa408",
   "metadata": {},
   "outputs": [],
   "source": [
    "class GAN(torch.nn.Module):\n",
    "\n",
    "    def __init__(self):\n",
    "        super(GAN, self).__init__()\n",
    "        \n",
    "        \n",
    "        self.generator = nn.Sequential(\n",
    "            nn.Linear(LATENT_DIM, 128),\n",
    "            nn.BatchNorm1d(128),\n",
    "            nn.LeakyReLU(inplace=True),\n",
    "            nn.Dropout(p=0.5),\n",
    "            nn.Linear(128, IMG_SIZE),\n",
    "            nn.Tanh()\n",
    "        )\n",
    "        \n",
    "        self.discriminator = nn.Sequential(\n",
    "            nn.Linear(IMG_SIZE, 128),\n",
    "            nn.BatchNorm1d(num_features=128),\n",
    "            nn.LeakyReLU(inplace=True),\n",
    "            nn.Dropout(p=0.5),\n",
    "            nn.Linear(128, 1),\n",
    "            nn.Sigmoid()\n",
    "        )\n",
    "\n",
    "            \n",
    "    def generator_forward(self, z):\n",
    "        img = self.generator(z)\n",
    "        return img\n",
    "    \n",
    "    def discriminator_forward(self, img):\n",
    "        pred = model.discriminator(img)\n",
    "        return pred.view(-1)"
   ]
  },
  {
   "cell_type": "code",
   "execution_count": 13,
   "id": "f7969627",
   "metadata": {},
   "outputs": [],
   "source": [
    "torch.manual_seed(random_seed)\n",
    "\n",
    "model = GAN()\n",
    "model = model.to(device)"
   ]
  },
  {
   "cell_type": "code",
   "execution_count": 14,
   "id": "be7acdce",
   "metadata": {},
   "outputs": [
    {
     "name": "stdout",
     "output_type": "stream",
     "text": [
      "GAN(\n",
      "  (generator): Sequential(\n",
      "    (0): Linear(in_features=75, out_features=128, bias=True)\n",
      "    (1): BatchNorm1d(128, eps=1e-05, momentum=0.1, affine=True, track_running_stats=True)\n",
      "    (2): LeakyReLU(negative_slope=0.01, inplace=True)\n",
      "    (3): Dropout(p=0.5, inplace=False)\n",
      "    (4): Linear(in_features=128, out_features=784, bias=True)\n",
      "    (5): Tanh()\n",
      "  )\n",
      "  (discriminator): Sequential(\n",
      "    (0): Linear(in_features=784, out_features=128, bias=True)\n",
      "    (1): BatchNorm1d(128, eps=1e-05, momentum=0.1, affine=True, track_running_stats=True)\n",
      "    (2): LeakyReLU(negative_slope=0.01, inplace=True)\n",
      "    (3): Dropout(p=0.5, inplace=False)\n",
      "    (4): Linear(in_features=128, out_features=1, bias=True)\n",
      "    (5): Sigmoid()\n",
      "  )\n",
      ")\n"
     ]
    }
   ],
   "source": [
    "print(model)"
   ]
  },
  {
   "cell_type": "code",
   "execution_count": 15,
   "id": "0aaef39d",
   "metadata": {},
   "outputs": [],
   "source": [
    "optim_gener = torch.optim.Adam(model.generator.parameters(), lr=generator_learning_rate)\n",
    "optim_discr = torch.optim.Adam(model.discriminator.parameters(), lr=discriminator_learning_rate)"
   ]
  },
  {
   "cell_type": "code",
   "execution_count": 16,
   "id": "7bdbf14b",
   "metadata": {},
   "outputs": [
    {
     "name": "stdout",
     "output_type": "stream",
     "text": [
      "Epoch: 001/100 | Gen/Dis Loss: 1.9193/0.3110\n",
      "Epoch: 002/100 | Gen/Dis Loss: 1.6412/0.4075\n",
      "Epoch: 003/100 | Gen/Dis Loss: 1.9272/0.2985\n",
      "Epoch: 004/100 | Gen/Dis Loss: 2.4889/0.3368\n",
      "Epoch: 005/100 | Gen/Dis Loss: 2.6126/0.2229\n",
      "Epoch: 006/100 | Gen/Dis Loss: 3.7393/0.3673\n",
      "Epoch: 007/100 | Gen/Dis Loss: 3.8380/0.2953\n",
      "Epoch: 008/100 | Gen/Dis Loss: 2.6852/0.3498\n",
      "Epoch: 009/100 | Gen/Dis Loss: 2.3322/0.3465\n",
      "Epoch: 010/100 | Gen/Dis Loss: 2.3718/0.3683\n",
      "Epoch: 011/100 | Gen/Dis Loss: 2.2869/0.3737\n",
      "Epoch: 012/100 | Gen/Dis Loss: 2.6890/0.3819\n",
      "Epoch: 013/100 | Gen/Dis Loss: 2.8215/0.2469\n",
      "Epoch: 014/100 | Gen/Dis Loss: 2.6340/0.3706\n",
      "Epoch: 015/100 | Gen/Dis Loss: 2.2916/0.3007\n",
      "Epoch: 016/100 | Gen/Dis Loss: 1.9878/0.4062\n",
      "Epoch: 017/100 | Gen/Dis Loss: 2.6264/0.4266\n",
      "Epoch: 018/100 | Gen/Dis Loss: 2.2592/0.2842\n",
      "Epoch: 019/100 | Gen/Dis Loss: 2.9292/0.2742\n",
      "Epoch: 020/100 | Gen/Dis Loss: 2.9172/0.3170\n",
      "Epoch: 021/100 | Gen/Dis Loss: 3.4404/0.2898\n",
      "Epoch: 022/100 | Gen/Dis Loss: 3.9363/0.2783\n",
      "Epoch: 023/100 | Gen/Dis Loss: 2.7926/0.2213\n",
      "Epoch: 024/100 | Gen/Dis Loss: 2.6464/0.1657\n",
      "Epoch: 025/100 | Gen/Dis Loss: 2.8817/0.2647\n",
      "Epoch: 026/100 | Gen/Dis Loss: 3.1414/0.3871\n",
      "Epoch: 027/100 | Gen/Dis Loss: 2.8700/0.2728\n",
      "Epoch: 028/100 | Gen/Dis Loss: 3.6298/0.1971\n",
      "Epoch: 029/100 | Gen/Dis Loss: 3.4747/0.2081\n",
      "Epoch: 030/100 | Gen/Dis Loss: 3.5229/0.2170\n",
      "Epoch: 031/100 | Gen/Dis Loss: 3.4474/0.4160\n",
      "Epoch: 032/100 | Gen/Dis Loss: 2.9715/0.4819\n",
      "Epoch: 033/100 | Gen/Dis Loss: 2.9448/0.2081\n",
      "Epoch: 034/100 | Gen/Dis Loss: 4.6608/0.2819\n",
      "Epoch: 035/100 | Gen/Dis Loss: 3.6615/0.2687\n",
      "Epoch: 036/100 | Gen/Dis Loss: 3.9770/0.3104\n",
      "Epoch: 037/100 | Gen/Dis Loss: 4.3535/0.1489\n",
      "Epoch: 038/100 | Gen/Dis Loss: 4.2727/0.0997\n",
      "Epoch: 039/100 | Gen/Dis Loss: 5.4752/0.2342\n",
      "Epoch: 040/100 | Gen/Dis Loss: 4.5646/0.1260\n",
      "Epoch: 041/100 | Gen/Dis Loss: 4.0170/0.2115\n",
      "Epoch: 042/100 | Gen/Dis Loss: 5.0324/0.0755\n",
      "Epoch: 043/100 | Gen/Dis Loss: 4.1777/0.8046\n",
      "Epoch: 044/100 | Gen/Dis Loss: 4.2194/0.2596\n",
      "Epoch: 045/100 | Gen/Dis Loss: 4.4605/0.2259\n",
      "Epoch: 046/100 | Gen/Dis Loss: 4.5224/0.1092\n",
      "Epoch: 047/100 | Gen/Dis Loss: 4.5479/0.2009\n",
      "Epoch: 048/100 | Gen/Dis Loss: 4.7331/0.2638\n",
      "Epoch: 049/100 | Gen/Dis Loss: 5.2878/0.1065\n",
      "Epoch: 050/100 | Gen/Dis Loss: 5.8838/0.1703\n",
      "Epoch: 051/100 | Gen/Dis Loss: 6.0814/0.9686\n",
      "Epoch: 052/100 | Gen/Dis Loss: 5.3832/0.1873\n",
      "Epoch: 053/100 | Gen/Dis Loss: 4.2132/0.2001\n",
      "Epoch: 054/100 | Gen/Dis Loss: 4.4053/0.1867\n",
      "Epoch: 055/100 | Gen/Dis Loss: 5.0352/0.2154\n",
      "Epoch: 056/100 | Gen/Dis Loss: 6.8910/0.1227\n",
      "Epoch: 057/100 | Gen/Dis Loss: 5.9432/0.0755\n",
      "Epoch: 058/100 | Gen/Dis Loss: 5.1286/0.0753\n",
      "Epoch: 059/100 | Gen/Dis Loss: 6.5788/0.0977\n",
      "Epoch: 060/100 | Gen/Dis Loss: 5.1526/0.0493\n",
      "Epoch: 061/100 | Gen/Dis Loss: 5.9529/0.0599\n",
      "Epoch: 062/100 | Gen/Dis Loss: 5.2902/0.1120\n",
      "Epoch: 063/100 | Gen/Dis Loss: 6.5992/0.1298\n",
      "Epoch: 064/100 | Gen/Dis Loss: 8.2924/1.5344\n",
      "Epoch: 065/100 | Gen/Dis Loss: 6.9852/1.3614\n",
      "Epoch: 066/100 | Gen/Dis Loss: 6.1288/0.0738\n",
      "Epoch: 067/100 | Gen/Dis Loss: 6.4722/1.6094\n",
      "Epoch: 068/100 | Gen/Dis Loss: 7.1738/0.1609\n",
      "Epoch: 069/100 | Gen/Dis Loss: 8.1321/0.0612\n",
      "Epoch: 070/100 | Gen/Dis Loss: 8.5232/0.1239\n",
      "Epoch: 071/100 | Gen/Dis Loss: 7.1016/0.0939\n",
      "Epoch: 072/100 | Gen/Dis Loss: 6.7682/0.1266\n",
      "Epoch: 073/100 | Gen/Dis Loss: 8.4520/0.0874\n",
      "Epoch: 074/100 | Gen/Dis Loss: 6.7855/0.1792\n",
      "Epoch: 075/100 | Gen/Dis Loss: 6.6846/0.0648\n",
      "Epoch: 076/100 | Gen/Dis Loss: 9.3893/0.1621\n",
      "Epoch: 077/100 | Gen/Dis Loss: 7.2549/0.1036\n",
      "Epoch: 078/100 | Gen/Dis Loss: 8.3023/0.0458\n",
      "Epoch: 079/100 | Gen/Dis Loss: 6.3602/0.4303\n",
      "Epoch: 080/100 | Gen/Dis Loss: 7.0871/0.1728\n",
      "Epoch: 081/100 | Gen/Dis Loss: 8.4869/0.0715\n",
      "Epoch: 082/100 | Gen/Dis Loss: 7.3139/0.0523\n",
      "Epoch: 083/100 | Gen/Dis Loss: 7.0873/0.0546\n",
      "Epoch: 084/100 | Gen/Dis Loss: 9.5312/0.1282\n",
      "Epoch: 085/100 | Gen/Dis Loss: 8.0503/0.3211\n",
      "Epoch: 086/100 | Gen/Dis Loss: 10.7736/1.2656\n",
      "Epoch: 087/100 | Gen/Dis Loss: 8.9814/0.2906\n",
      "Epoch: 088/100 | Gen/Dis Loss: 8.1371/0.8025\n",
      "Epoch: 089/100 | Gen/Dis Loss: 7.0142/0.2006\n",
      "Epoch: 090/100 | Gen/Dis Loss: 7.4644/0.0843\n",
      "Epoch: 091/100 | Gen/Dis Loss: 6.3378/0.1925\n",
      "Epoch: 092/100 | Gen/Dis Loss: 5.5619/0.2370\n",
      "Epoch: 093/100 | Gen/Dis Loss: 5.0343/1.0726\n",
      "Epoch: 094/100 | Gen/Dis Loss: 5.9807/0.2382\n",
      "Epoch: 095/100 | Gen/Dis Loss: 6.1768/0.1260\n",
      "Epoch: 096/100 | Gen/Dis Loss: 5.3735/0.6183\n",
      "Epoch: 097/100 | Gen/Dis Loss: 6.4170/0.1222\n",
      "Epoch: 098/100 | Gen/Dis Loss: 6.9647/0.1320\n",
      "Epoch: 099/100 | Gen/Dis Loss: 5.5090/0.0953\n",
      "Epoch: 100/100 | Gen/Dis Loss: 4.9119/0.2871\n"
     ]
    }
   ],
   "source": [
    "start_time = time.time()    \n",
    "\n",
    "discr_costs = []\n",
    "gener_costs = []\n",
    "for epoch in range(NUM_EPOCHS):\n",
    "    model = model.train()\n",
    "    for batch_idx, (features, targets) in enumerate(train_loader):\n",
    "\n",
    "        \n",
    "        \n",
    "        features = (features - 0.5)*2.\n",
    "        features = features.view(-1, IMG_SIZE).to(device) \n",
    "        targets = targets.to(device)\n",
    "\n",
    "        valid = torch.ones(targets.size(0)).float().to(device)\n",
    "        fake = torch.zeros(targets.size(0)).float().to(device)\n",
    "        \n",
    "        # Train Generator\n",
    "        # Make new images\n",
    "        z = torch.zeros((targets.size(0), LATENT_DIM)).uniform_(-1.0, 1.0).to(device)\n",
    "        generated_features = model.generator_forward(z)\n",
    "        \n",
    "        # Loss for fooling the discriminator\n",
    "        discr_pred = model.discriminator_forward(generated_features)\n",
    "        \n",
    "        gener_loss = F.binary_cross_entropy(discr_pred, valid)\n",
    "        \n",
    "        optim_gener.zero_grad()\n",
    "        gener_loss.backward()\n",
    "        optim_gener.step()\n",
    "        \n",
    "        # Train Discriminator\n",
    "               \n",
    "        discr_pred_real = model.discriminator_forward(features.view(-1, IMG_SIZE))\n",
    "        real_loss = F.binary_cross_entropy(discr_pred_real, valid)\n",
    "        \n",
    "        discr_pred_fake = model.discriminator_forward(generated_features.detach())\n",
    "        fake_loss = F.binary_cross_entropy(discr_pred_fake, fake)\n",
    "        \n",
    "        discr_loss = 0.5*(real_loss + fake_loss)\n",
    "\n",
    "        optim_discr.zero_grad()\n",
    "        discr_loss.backward()\n",
    "        optim_discr.step()        \n",
    "        \n",
    "        discr_costs.append(discr_loss)\n",
    "        gener_costs.append(gener_loss)\n",
    "        \n",
    "        \n",
    "        # LOGGING\n",
    "    print ('Epoch: %03d/%03d | Gen/Dis Loss: %.4f/%.4f' %(epoch+1, NUM_EPOCHS, gener_loss, discr_loss))\n"
   ]
  },
  {
   "cell_type": "code",
   "execution_count": 17,
   "id": "f7745c94",
   "metadata": {},
   "outputs": [
    {
     "name": "stderr",
     "output_type": "stream",
     "text": [
      "C:\\Users\\Selim\\anaconda3\\envs\\ML\\lib\\site-packages\\ipykernel_launcher.py:15: UserWarning: FixedFormatter should only be used together with FixedLocator\n",
      "  from ipykernel import kernelapp as app\n"
     ]
    },
    {
     "data": {
      "image/png": "[encoded data removed]",
      "text/plain": [
       "<Figure size 432x288 with 2 Axes>"
      ]
     },
     "metadata": {
      "needs_background": "light"
     },
     "output_type": "display_data"
    }
   ],
   "source": [
    "ax1 = plt.subplot(1, 1, 1)\n",
    "ax1.plot(range(len(gener_costs)), torch.tensor(gener_costs), label='Generator loss')\n",
    "ax1.plot(range(len(discr_costs)), torch.tensor(discr_costs), label='Discriminator loss')\n",
    "ax1.set_xlabel('Iterations')\n",
    "ax1.set_ylabel('Loss')\n",
    "ax1.legend()\n",
    "\n",
    "\n",
    "\n",
    "ax2 = ax1.twiny()\n",
    "newlabel = list(range(NUM_EPOCHS+1))\n",
    "iter_per_epoch = len(train_loader)\n",
    "newpos = [e*iter_per_epoch for e in newlabel]\n",
    "\n",
    "ax2.set_xticklabels(newlabel[::10])\n",
    "ax2.set_xticks(newpos[::10])\n",
    "\n",
    "ax2.xaxis.set_ticks_position('bottom')\n",
    "ax2.xaxis.set_label_position('bottom')\n",
    "ax2.spines['bottom'].set_position(('outward', 45))\n",
    "ax2.set_xlabel('Epochs')\n",
    "ax2.set_xlim(ax1.get_xlim())\n",
    "\n",
    "\n",
    "plt.show()"
   ]
  },
  {
   "cell_type": "code",
   "execution_count": 18,
   "id": "e15aa389",
   "metadata": {},
   "outputs": [
    {
     "data": {
      "image/png": "[encoded data removed]",
      "text/plain": [
       "<Figure size 1440x180 with 5 Axes>"
      ]
     },
     "metadata": {
      "needs_background": "light"
     },
     "output_type": "display_data"
    }
   ],
   "source": [
    "model.eval()\n",
    "\n",
    "z = torch.zeros((5, LATENT_DIM)).uniform_(-1.0, 1.0).to(device)\n",
    "generated_features = model.generator_forward(z)\n",
    "imgs = generated_features.view(-1, 28, 28)\n",
    "\n",
    "fig, axes = plt.subplots(nrows=1, ncols=5, figsize=(20, 2.5))\n",
    "\n",
    "\n",
    "for i, ax in enumerate(axes):\n",
    "    axes[i].imshow(imgs[i].to(torch.device('cpu')).detach(), cmap='binary')\n"
   ]
  },
  {
   "cell_type": "code",
   "execution_count": null,
   "id": "3b80087b",
   "metadata": {},
   "outputs": [],
   "source": []
  }
 ],
 "metadata": {
  "kernelspec": {
   "display_name": "Python 3",
   "language": "python",
   "name": "python3"
  },
  "language_info": {
   "codemirror_mode": {
    "name": "ipython",
    "version": 3
   },
   "file_extension": ".py",
   "mimetype": "text/x-python",
   "name": "python",
   "nbconvert_exporter": "python",
   "pygments_lexer": "ipython3",
   "version": "3.7.10"
  }
 },
 "nbformat": 4,
 "nbformat_minor": 5
}
