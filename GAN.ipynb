{
 "cells": [
  {
   "cell_type": "code",
   "execution_count": 14,
   "id": "8e5ad159",
   "metadata": {},
   "outputs": [],
   "source": [
    "import time\n",
    "import numpy as np\n",
    "import torch\n",
    "import torch.nn.functional as F\n",
    "from torchvision import datasets\n",
    "from torchvision import transforms\n",
    "import torch.nn as nn\n",
    "from torch.utils.data import DataLoader\n",
    "import matplotlib.pyplot as plt\n",
    "%matplotlib inline"
   ]
  },
  {
   "cell_type": "code",
   "execution_count": 2,
   "id": "f2d5e3ae",
   "metadata": {},
   "outputs": [],
   "source": [
    "if torch.cuda.is_available():\n",
    "    torch.backends.cudnn.deterministic = True"
   ]
  },
  {
   "cell_type": "code",
   "execution_count": 3,
   "id": "6cb98a9a",
   "metadata": {},
   "outputs": [
    {
     "data": {
      "text/plain": [
       "device(type='cpu')"
      ]
     },
     "execution_count": 3,
     "metadata": {},
     "output_type": "execute_result"
    }
   ],
   "source": [
    "# Device\n",
    "device = torch.device(\"cuda\" if torch.cuda.is_available() else \"cpu\")\n",
    "device"
   ]
  },
  {
   "cell_type": "code",
   "execution_count": 4,
   "id": "4d7c53aa",
   "metadata": {},
   "outputs": [],
   "source": [
    "# Hyperparameters\n",
    "random_seed = 123\n",
    "generator_learning_rate = 0.001\n",
    "discriminator_learning_rate = 0.001\n",
    "NUM_EPOCHS = 100\n",
    "BATCH_SIZE = 128\n",
    "LATENT_DIM = 75\n",
    "IMG_SHAPE = (1, 28, 28)\n",
    "IMG_SIZE = 1\n",
    "for x in IMG_SHAPE:\n",
    "    IMG_SIZE *= x"
   ]
  },
  {
   "cell_type": "code",
   "execution_count": 5,
   "id": "e3f90e9d",
   "metadata": {},
   "outputs": [
    {
     "name": "stdout",
     "output_type": "stream",
     "text": [
      "Downloading http://yann.lecun.com/exdb/mnist/train-images-idx3-ubyte.gz\n",
      "Failed to download (trying next):\n",
      "<urlopen error [WinError 10060] A connection attempt failed because the connected party did not properly respond after a period of time, or established connection failed because connected host has failed to respond>\n",
      "\n",
      "Downloading https://ossci-datasets.s3.amazonaws.com/mnist/train-images-idx3-ubyte.gz\n",
      "Downloading https://ossci-datasets.s3.amazonaws.com/mnist/train-images-idx3-ubyte.gz to data\\MNIST\\raw\\train-images-idx3-ubyte.gz\n"
     ]
    },
    {
     "data": {
      "application/vnd.jupyter.widget-view+json": {
       "model_id": "c9e54d17380442f594995e73c0e57f6f",
       "version_major": 2,
       "version_minor": 0
      },
      "text/plain": [
       "  0%|          | 0/9912422 [00:00<?, ?it/s]"
      ]
     },
     "metadata": {},
     "output_type": "display_data"
    },
    {
     "name": "stdout",
     "output_type": "stream",
     "text": [
      "Extracting data\\MNIST\\raw\\train-images-idx3-ubyte.gz to data\\MNIST\\raw\n",
      "\n",
      "Downloading http://yann.lecun.com/exdb/mnist/train-labels-idx1-ubyte.gz\n",
      "Failed to download (trying next):\n",
      "<urlopen error [WinError 10060] A connection attempt failed because the connected party did not properly respond after a period of time, or established connection failed because connected host has failed to respond>\n",
      "\n",
      "Downloading https://ossci-datasets.s3.amazonaws.com/mnist/train-labels-idx1-ubyte.gz\n",
      "Downloading https://ossci-datasets.s3.amazonaws.com/mnist/train-labels-idx1-ubyte.gz to data\\MNIST\\raw\\train-labels-idx1-ubyte.gz\n"
     ]
    },
    {
     "data": {
      "application/vnd.jupyter.widget-view+json": {
       "model_id": "a7273e4ca6774b93ac8922998bc7524b",
       "version_major": 2,
       "version_minor": 0
      },
      "text/plain": [
       "  0%|          | 0/28881 [00:00<?, ?it/s]"
      ]
     },
     "metadata": {},
     "output_type": "display_data"
    },
    {
     "name": "stdout",
     "output_type": "stream",
     "text": [
      "Extracting data\\MNIST\\raw\\train-labels-idx1-ubyte.gz to data\\MNIST\\raw\n",
      "\n",
      "Downloading http://yann.lecun.com/exdb/mnist/t10k-images-idx3-ubyte.gz\n",
      "Failed to download (trying next):\n",
      "<urlopen error [WinError 10060] A connection attempt failed because the connected party did not properly respond after a period of time, or established connection failed because connected host has failed to respond>\n",
      "\n",
      "Downloading https://ossci-datasets.s3.amazonaws.com/mnist/t10k-images-idx3-ubyte.gz\n",
      "Downloading https://ossci-datasets.s3.amazonaws.com/mnist/t10k-images-idx3-ubyte.gz to data\\MNIST\\raw\\t10k-images-idx3-ubyte.gz\n"
     ]
    },
    {
     "data": {
      "application/vnd.jupyter.widget-view+json": {
       "model_id": "1cab0c4dd7964151bc8846d37e87770e",
       "version_major": 2,
       "version_minor": 0
      },
      "text/plain": [
       "  0%|          | 0/1648877 [00:00<?, ?it/s]"
      ]
     },
     "metadata": {},
     "output_type": "display_data"
    },
    {
     "name": "stdout",
     "output_type": "stream",
     "text": [
      "Extracting data\\MNIST\\raw\\t10k-images-idx3-ubyte.gz to data\\MNIST\\raw\n",
      "\n",
      "Downloading http://yann.lecun.com/exdb/mnist/t10k-labels-idx1-ubyte.gz\n",
      "Failed to download (trying next):\n",
      "<urlopen error [WinError 10060] A connection attempt failed because the connected party did not properly respond after a period of time, or established connection failed because connected host has failed to respond>\n",
      "\n",
      "Downloading https://ossci-datasets.s3.amazonaws.com/mnist/t10k-labels-idx1-ubyte.gz\n",
      "Downloading https://ossci-datasets.s3.amazonaws.com/mnist/t10k-labels-idx1-ubyte.gz to data\\MNIST\\raw\\t10k-labels-idx1-ubyte.gz\n"
     ]
    },
    {
     "data": {
      "application/vnd.jupyter.widget-view+json": {
       "model_id": "98295b98be164328be3eab7b9e6be001",
       "version_major": 2,
       "version_minor": 0
      },
      "text/plain": [
       "  0%|          | 0/4542 [00:00<?, ?it/s]"
      ]
     },
     "metadata": {},
     "output_type": "display_data"
    },
    {
     "name": "stdout",
     "output_type": "stream",
     "text": [
      "Extracting data\\MNIST\\raw\\t10k-labels-idx1-ubyte.gz to data\\MNIST\\raw\n",
      "\n",
      "Processing...\n"
     ]
    },
    {
     "name": "stderr",
     "output_type": "stream",
     "text": [
      "C:\\Users\\Selim\\anaconda3\\envs\\ML\\lib\\site-packages\\torchvision\\datasets\\mnist.py:502: UserWarning: The given NumPy array is not writeable, and PyTorch does not support non-writeable tensors. This means you can write to the underlying (supposedly non-writeable) NumPy array using the tensor. You may want to copy the array to protect its data or make it writeable before converting it to a tensor. This type of warning will be suppressed for the rest of this program. (Triggered internally at  ..\\torch\\csrc\\utils\\tensor_numpy.cpp:143.)\n",
      "  return torch.from_numpy(parsed.astype(m[2], copy=False)).view(*s)\n"
     ]
    },
    {
     "name": "stdout",
     "output_type": "stream",
     "text": [
      "Done!\n",
      "Image batch dimensions: torch.Size([128, 1, 28, 28])\n",
      "Image label dimensions: torch.Size([128])\n"
     ]
    }
   ],
   "source": [
    "train_dataset = datasets.MNIST(root='data', \n",
    "                               train=True, \n",
    "                               transform=transforms.ToTensor(),\n",
    "                               download=True)\n",
    "\n",
    "test_dataset = datasets.MNIST(root='data', \n",
    "                              train=False, \n",
    "                              transform=transforms.ToTensor())\n",
    "\n",
    "\n",
    "train_loader = DataLoader(dataset=train_dataset, \n",
    "                          batch_size=BATCH_SIZE, \n",
    "                          shuffle=True)\n",
    "\n",
    "test_loader = DataLoader(dataset=test_dataset, \n",
    "                         batch_size=BATCH_SIZE, \n",
    "                         shuffle=False)\n",
    "\n",
    "# Checking the dataset\n",
    "for images, labels in train_loader:  \n",
    "    print('Image batch dimensions:', images.shape)\n",
    "    print('Image label dimensions:', labels.shape)\n",
    "    break"
   ]
  },
  {
   "cell_type": "code",
   "execution_count": 6,
   "id": "ef37247b",
   "metadata": {},
   "outputs": [],
   "source": [
    "class GAN(torch.nn.Module):\n",
    "\n",
    "    def __init__(self):\n",
    "        super(GAN, self).__init__()\n",
    "        \n",
    "        \n",
    "        self.generator = nn.Sequential(\n",
    "            nn.Linear(LATENT_DIM, 128),\n",
    "            nn.LeakyReLU(inplace=True),\n",
    "            nn.Dropout(p=0.5),\n",
    "            nn.Linear(128, IMG_SIZE),\n",
    "            nn.Tanh()\n",
    "        )\n",
    "        \n",
    "        self.discriminator = nn.Sequential(\n",
    "            nn.Linear(IMG_SIZE, 128),\n",
    "            nn.LeakyReLU(inplace=True),\n",
    "            nn.Dropout(p=0.5),\n",
    "            nn.Linear(128, 1),\n",
    "            nn.Sigmoid()\n",
    "        )\n",
    "\n",
    "            \n",
    "    def generator_forward(self, z):\n",
    "        img = self.generator(z)\n",
    "        return img\n",
    "    \n",
    "    def discriminator_forward(self, img):\n",
    "        pred = model.discriminator(img)\n",
    "        return pred.view(-1)"
   ]
  },
  {
   "cell_type": "code",
   "execution_count": 7,
   "id": "5405fb2c",
   "metadata": {},
   "outputs": [],
   "source": [
    "torch.manual_seed(random_seed)\n",
    "\n",
    "model = GAN()\n",
    "model = model.to(device)\n",
    "\n",
    "optim_gener = torch.optim.Adam(model.generator.parameters(), lr=generator_learning_rate)\n",
    "optim_discr = torch.optim.Adam(model.discriminator.parameters(), lr=discriminator_learning_rate)"
   ]
  },
  {
   "cell_type": "code",
   "execution_count": 13,
   "id": "c96ea751",
   "metadata": {},
   "outputs": [
    {
     "name": "stdout",
     "output_type": "stream",
     "text": [
      "Epoch: 001/100 | Gen/Dis Loss: 0.8780/0.6200\n",
      "Epoch: 002/100 | Gen/Dis Loss: 0.8794/0.5973\n",
      "Epoch: 003/100 | Gen/Dis Loss: 0.8511/0.6071\n",
      "Epoch: 004/100 | Gen/Dis Loss: 1.0333/0.6264\n",
      "Epoch: 005/100 | Gen/Dis Loss: 0.7159/0.6279\n",
      "Epoch: 006/100 | Gen/Dis Loss: 0.8605/0.6132\n",
      "Epoch: 007/100 | Gen/Dis Loss: 0.8719/0.6235\n",
      "Epoch: 008/100 | Gen/Dis Loss: 0.9022/0.6435\n",
      "Epoch: 009/100 | Gen/Dis Loss: 0.9201/0.6812\n",
      "Epoch: 010/100 | Gen/Dis Loss: 1.0513/0.5852\n",
      "Epoch: 011/100 | Gen/Dis Loss: 1.0871/0.6171\n",
      "Epoch: 012/100 | Gen/Dis Loss: 1.0841/0.6405\n",
      "Epoch: 013/100 | Gen/Dis Loss: 0.8327/0.6144\n",
      "Epoch: 014/100 | Gen/Dis Loss: 0.8413/0.6184\n",
      "Epoch: 015/100 | Gen/Dis Loss: 0.9776/0.6429\n",
      "Epoch: 016/100 | Gen/Dis Loss: 0.8496/0.6044\n",
      "Epoch: 017/100 | Gen/Dis Loss: 0.9143/0.6491\n",
      "Epoch: 018/100 | Gen/Dis Loss: 0.8434/0.6251\n",
      "Epoch: 019/100 | Gen/Dis Loss: 0.7902/0.6306\n",
      "Epoch: 020/100 | Gen/Dis Loss: 0.7576/0.6536\n",
      "Epoch: 021/100 | Gen/Dis Loss: 0.8241/0.6334\n",
      "Epoch: 022/100 | Gen/Dis Loss: 0.8201/0.6156\n",
      "Epoch: 023/100 | Gen/Dis Loss: 0.8265/0.6333\n",
      "Epoch: 024/100 | Gen/Dis Loss: 1.0774/0.5849\n",
      "Epoch: 025/100 | Gen/Dis Loss: 0.9482/0.6518\n",
      "Epoch: 026/100 | Gen/Dis Loss: 1.1529/0.6497\n",
      "Epoch: 027/100 | Gen/Dis Loss: 0.9423/0.6138\n",
      "Epoch: 028/100 | Gen/Dis Loss: 0.9471/0.6379\n",
      "Epoch: 029/100 | Gen/Dis Loss: 1.0100/0.6236\n",
      "Epoch: 030/100 | Gen/Dis Loss: 1.2340/0.5908\n",
      "Epoch: 031/100 | Gen/Dis Loss: 0.9116/0.6000\n",
      "Epoch: 032/100 | Gen/Dis Loss: 1.1757/0.6067\n",
      "Epoch: 033/100 | Gen/Dis Loss: 0.8009/0.6398\n",
      "Epoch: 034/100 | Gen/Dis Loss: 0.9432/0.6387\n",
      "Epoch: 035/100 | Gen/Dis Loss: 0.8157/0.6452\n",
      "Epoch: 036/100 | Gen/Dis Loss: 0.7742/0.6257\n",
      "Epoch: 037/100 | Gen/Dis Loss: 0.8862/0.6271\n",
      "Epoch: 038/100 | Gen/Dis Loss: 0.8087/0.6417\n",
      "Epoch: 039/100 | Gen/Dis Loss: 1.0060/0.5962\n",
      "Epoch: 040/100 | Gen/Dis Loss: 0.7872/0.6552\n",
      "Epoch: 041/100 | Gen/Dis Loss: 0.7968/0.6368\n",
      "Epoch: 042/100 | Gen/Dis Loss: 0.9064/0.6442\n",
      "Epoch: 043/100 | Gen/Dis Loss: 0.8077/0.6493\n",
      "Epoch: 044/100 | Gen/Dis Loss: 0.8340/0.6024\n",
      "Epoch: 045/100 | Gen/Dis Loss: 0.8565/0.6457\n",
      "Epoch: 046/100 | Gen/Dis Loss: 0.9343/0.6629\n",
      "Epoch: 047/100 | Gen/Dis Loss: 0.9866/0.6683\n",
      "Epoch: 048/100 | Gen/Dis Loss: 0.9120/0.6285\n",
      "Epoch: 049/100 | Gen/Dis Loss: 0.8050/0.6794\n",
      "Epoch: 050/100 | Gen/Dis Loss: 0.8462/0.6349\n",
      "Epoch: 051/100 | Gen/Dis Loss: 1.5040/0.6269\n",
      "Epoch: 052/100 | Gen/Dis Loss: 0.9363/0.6484\n",
      "Epoch: 053/100 | Gen/Dis Loss: 0.7659/0.6487\n",
      "Epoch: 054/100 | Gen/Dis Loss: 0.8912/0.6287\n",
      "Epoch: 055/100 | Gen/Dis Loss: 0.8535/0.5983\n",
      "Epoch: 056/100 | Gen/Dis Loss: 0.8231/0.6676\n",
      "Epoch: 057/100 | Gen/Dis Loss: 0.9750/0.6332\n",
      "Epoch: 058/100 | Gen/Dis Loss: 0.8504/0.6476\n",
      "Epoch: 059/100 | Gen/Dis Loss: 0.9614/0.6237\n",
      "Epoch: 060/100 | Gen/Dis Loss: 0.8787/0.6219\n",
      "Epoch: 061/100 | Gen/Dis Loss: 0.9292/0.6312\n",
      "Epoch: 062/100 | Gen/Dis Loss: 0.9731/0.6599\n",
      "Epoch: 063/100 | Gen/Dis Loss: 0.8482/0.6654\n",
      "Epoch: 064/100 | Gen/Dis Loss: 0.8623/0.6315\n",
      "Epoch: 065/100 | Gen/Dis Loss: 0.7884/0.5787\n",
      "Epoch: 066/100 | Gen/Dis Loss: 0.8383/0.6287\n",
      "Epoch: 067/100 | Gen/Dis Loss: 0.9207/0.6333\n",
      "Epoch: 068/100 | Gen/Dis Loss: 0.8297/0.6335\n",
      "Epoch: 069/100 | Gen/Dis Loss: 1.0725/0.6159\n",
      "Epoch: 070/100 | Gen/Dis Loss: 0.8496/0.6065\n",
      "Epoch: 071/100 | Gen/Dis Loss: 0.8255/0.6550\n",
      "Epoch: 072/100 | Gen/Dis Loss: 0.8240/0.6187\n",
      "Epoch: 073/100 | Gen/Dis Loss: 0.8718/0.6453\n",
      "Epoch: 074/100 | Gen/Dis Loss: 0.8800/0.6013\n",
      "Epoch: 075/100 | Gen/Dis Loss: 0.7210/0.6248\n",
      "Epoch: 076/100 | Gen/Dis Loss: 0.8727/0.6405\n",
      "Epoch: 077/100 | Gen/Dis Loss: 1.0365/0.6036\n",
      "Epoch: 078/100 | Gen/Dis Loss: 0.7261/0.6479\n",
      "Epoch: 079/100 | Gen/Dis Loss: 0.8012/0.6255\n",
      "Epoch: 080/100 | Gen/Dis Loss: 0.9097/0.6175\n",
      "Epoch: 081/100 | Gen/Dis Loss: 0.8398/0.6679\n",
      "Epoch: 082/100 | Gen/Dis Loss: 0.8298/0.6445\n",
      "Epoch: 083/100 | Gen/Dis Loss: 1.0117/0.6372\n",
      "Epoch: 084/100 | Gen/Dis Loss: 0.8628/0.6200\n",
      "Epoch: 085/100 | Gen/Dis Loss: 0.8767/0.6349\n",
      "Epoch: 086/100 | Gen/Dis Loss: 0.9906/0.5762\n",
      "Epoch: 087/100 | Gen/Dis Loss: 0.9319/0.6015\n",
      "Epoch: 088/100 | Gen/Dis Loss: 0.9231/0.5609\n",
      "Epoch: 089/100 | Gen/Dis Loss: 0.7440/0.6738\n",
      "Epoch: 090/100 | Gen/Dis Loss: 0.8937/0.6175\n",
      "Epoch: 091/100 | Gen/Dis Loss: 0.8223/0.6316\n",
      "Epoch: 092/100 | Gen/Dis Loss: 0.8642/0.6651\n",
      "Epoch: 093/100 | Gen/Dis Loss: 0.8100/0.6344\n",
      "Epoch: 094/100 | Gen/Dis Loss: 0.8599/0.6417\n",
      "Epoch: 095/100 | Gen/Dis Loss: 0.8669/0.5994\n",
      "Epoch: 096/100 | Gen/Dis Loss: 0.8156/0.6177\n",
      "Epoch: 097/100 | Gen/Dis Loss: 0.9286/0.6298\n",
      "Epoch: 098/100 | Gen/Dis Loss: 0.8663/0.6304\n",
      "Epoch: 099/100 | Gen/Dis Loss: 0.8144/0.6148\n",
      "Epoch: 100/100 | Gen/Dis Loss: 0.8502/0.6374\n"
     ]
    }
   ],
   "source": [
    "start_time = time.time()    \n",
    "\n",
    "discr_costs = []\n",
    "gener_costs = []\n",
    "for epoch in range(NUM_EPOCHS):\n",
    "    model = model.train()\n",
    "    for batch_idx, (features, targets) in enumerate(train_loader):\n",
    "\n",
    "        \n",
    "        \n",
    "        features = (features - 0.5)*2.\n",
    "        features = features.view(-1, IMG_SIZE).to(device) \n",
    "        targets = targets.to(device)\n",
    "\n",
    "        valid = torch.ones(targets.size(0)).float().to(device)\n",
    "        fake = torch.zeros(targets.size(0)).float().to(device)\n",
    "        \n",
    "        # Train Generator\n",
    "        # Make new images\n",
    "        z = torch.zeros((targets.size(0), LATENT_DIM)).uniform_(-1.0, 1.0).to(device)\n",
    "        generated_features = model.generator_forward(z)\n",
    "        \n",
    "        # Loss for fooling the discriminator\n",
    "        discr_pred = model.discriminator_forward(generated_features)\n",
    "        \n",
    "        gener_loss = F.binary_cross_entropy(discr_pred, valid)\n",
    "        \n",
    "        optim_gener.zero_grad()\n",
    "        gener_loss.backward()\n",
    "        optim_gener.step()\n",
    "        \n",
    "        # Train Discriminator\n",
    "               \n",
    "        discr_pred_real = model.discriminator_forward(features.view(-1, IMG_SIZE))\n",
    "        real_loss = F.binary_cross_entropy(discr_pred_real, valid)\n",
    "        \n",
    "        discr_pred_fake = model.discriminator_forward(generated_features.detach())\n",
    "        fake_loss = F.binary_cross_entropy(discr_pred_fake, fake)\n",
    "        \n",
    "        discr_loss = 0.5*(real_loss + fake_loss)\n",
    "\n",
    "        optim_discr.zero_grad()\n",
    "        discr_loss.backward()\n",
    "        optim_discr.step()        \n",
    "        \n",
    "        discr_costs.append(discr_loss)\n",
    "        gener_costs.append(gener_loss)\n",
    "        \n",
    "        \n",
    "        # LOGGING\n",
    "    print ('Epoch: %03d/%03d | Gen/Dis Loss: %.4f/%.4f' %(epoch+1, NUM_EPOCHS, gener_loss, discr_loss))\n"
   ]
  },
  {
   "cell_type": "code",
   "execution_count": 26,
   "id": "abdcdafb",
   "metadata": {},
   "outputs": [
    {
     "name": "stderr",
     "output_type": "stream",
     "text": [
      "C:\\Users\\Selim\\anaconda3\\envs\\ML\\lib\\site-packages\\ipykernel_launcher.py:15: UserWarning: FixedFormatter should only be used together with FixedLocator\n",
      "  from ipykernel import kernelapp as app\n"
     ]
    },
    {
     "data": {
      "image/png": "[encoded data removed]",
      "text/plain": [
       "<Figure size 432x288 with 2 Axes>"
      ]
     },
     "metadata": {
      "needs_background": "light"
     },
     "output_type": "display_data"
    }
   ],
   "source": [
    "ax1 = plt.subplot(1, 1, 1)\n",
    "ax1.plot(range(len(gener_costs)), torch.tensor(gener_costs), label='Generator loss')\n",
    "ax1.plot(range(len(discr_costs)), torch.tensor(discr_costs), label='Discriminator loss')\n",
    "ax1.set_xlabel('Iterations')\n",
    "ax1.set_ylabel('Loss')\n",
    "ax1.legend()\n",
    "\n",
    "\n",
    "\n",
    "ax2 = ax1.twiny()\n",
    "newlabel = list(range(NUM_EPOCHS+1))\n",
    "iter_per_epoch = len(train_loader)\n",
    "newpos = [e*iter_per_epoch for e in newlabel]\n",
    "\n",
    "ax2.set_xticklabels(newlabel[::10])\n",
    "ax2.set_xticks(newpos[::10])\n",
    "\n",
    "ax2.xaxis.set_ticks_position('bottom')\n",
    "ax2.xaxis.set_label_position('bottom')\n",
    "ax2.spines['bottom'].set_position(('outward', 45))\n",
    "ax2.set_xlabel('Epochs')\n",
    "ax2.set_xlim(ax1.get_xlim())\n",
    "\n",
    "\n",
    "plt.show()"
   ]
  },
  {
   "cell_type": "code",
   "execution_count": 27,
   "id": "007dc7eb",
   "metadata": {},
   "outputs": [
    {
     "data": {
      "image/png": "[encoded data removed]",
      "text/plain": [
       "<Figure size 1440x180 with 5 Axes>"
      ]
     },
     "metadata": {
      "needs_background": "light"
     },
     "output_type": "display_data"
    }
   ],
   "source": [
    "model.eval()\n",
    "\n",
    "z = torch.zeros((5, LATENT_DIM)).uniform_(-1.0, 1.0).to(device)\n",
    "generated_features = model.generator_forward(z)\n",
    "imgs = generated_features.view(-1, 28, 28)\n",
    "\n",
    "fig, axes = plt.subplots(nrows=1, ncols=5, figsize=(20, 2.5))\n",
    "\n",
    "\n",
    "for i, ax in enumerate(axes):\n",
    "    axes[i].imshow(imgs[i].to(torch.device('cpu')).detach(), cmap='binary')\n"
   ]
  },
  {
   "cell_type": "code",
   "execution_count": null,
   "id": "e9800d4a",
   "metadata": {},
   "outputs": [],
   "source": []
  }
 ],
 "metadata": {
  "kernelspec": {
   "display_name": "Python 3",
   "language": "python",
   "name": "python3"
  },
  "language_info": {
   "codemirror_mode": {
    "name": "ipython",
    "version": 3
   },
   "file_extension": ".py",
   "mimetype": "text/x-python",
   "name": "python",
   "nbconvert_exporter": "python",
   "pygments_lexer": "ipython3",
   "version": "3.7.10"
  }
 },
 "nbformat": 4,
 "nbformat_minor": 5
}
